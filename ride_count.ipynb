{
 "cells": [
  {
   "cell_type": "code",
   "execution_count": 15,
   "metadata": {},
   "outputs": [],
   "source": [
    "import pandas as pd\n",
    "import numpy as np\n",
    "import datetime as dt"
   ]
  },
  {
   "cell_type": "code",
   "execution_count": 20,
   "metadata": {
    "scrolled": true
   },
   "outputs": [
    {
     "name": "stdout",
     "output_type": "stream",
     "text": [
      " Month: 1, Shape: (716571, 18), Append Shape: (3, 5)\n",
      " Month: 2, Shape: (839734, 18), Append Shape: (6, 5)\n",
      " Month: 3, Shape: (971645, 18), Append Shape: (9, 5)\n",
      " Month: 4, Shape: (1294222, 18), Append Shape: (12, 5)\n",
      " Month: 5, Shape: (1803727, 18), Append Shape: (15, 5)\n",
      " Month: 6, Shape: (1929984, 18), Append Shape: (18, 5)\n",
      " Month: 7, Shape: (1888771, 18), Append Shape: (21, 5)\n",
      " Month: 8, Shape: (1954519, 18), Append Shape: (24, 5)\n",
      " Month: 9, Shape: (1857267, 18), Append Shape: (27, 5)\n",
      " Month: 10, Shape: (1863633, 18), Append Shape: (30, 5)\n",
      " Month: 11, Shape: (1251410, 18), Append Shape: (33, 5)\n",
      " Month: 12, Shape: (1010543, 18), Append Shape: (36, 5)\n",
      " Month: 1, Shape: (962971, 18), Append Shape: (39, 5)\n",
      " Month: 2, Shape: (939109, 18), Append Shape: (42, 5)\n",
      " Month: 3, Shape: (1318379, 18), Append Shape: (45, 5)\n",
      " Month: 4, Shape: (1746403, 18), Append Shape: (48, 5)\n",
      " Month: 5, Shape: (1903280, 18), Append Shape: (51, 5)\n",
      " Month: 6, Shape: (2099976, 18), Append Shape: (54, 5)\n",
      " Month: 7, Shape: (2156227, 18), Append Shape: (57, 5)\n",
      " Month: 8, Shape: (2316680, 18), Append Shape: (60, 5)\n",
      " Month: 9, Shape: (2419921, 18), Append Shape: (63, 5)\n",
      " Month: 10, Shape: (2075744, 18), Append Shape: (66, 5)\n",
      " Month: 11, Shape: (1469911, 18), Append Shape: (69, 5)\n",
      " Month: 12, Shape: (950139, 18), Append Shape: (72, 5)\n"
     ]
    }
   ],
   "source": [
    "year = 2018\n",
    "month = 1\n",
    "df_append = pd.DataFrame()\n",
    "\n",
    "while year < 2020 and month < 14:\n",
    "    # generate path & read CSV\n",
    "    path = f'csv/{str(year) + str(month).zfill(2)}-citibike-tripdata.csv'\n",
    "    df = pd.read_csv(path)\n",
    "    \n",
    "    # filter out rides longer than 1 hr\n",
    "    df['tripduration'] = df['tripduration'].astype(int)\n",
    "    df = df[(df.tripduration <= 3600)] \n",
    "    \n",
    "    # convert start time to datetime to extract year & month\n",
    "    df['starttime'] = pd.to_datetime(df['starttime'])\n",
    "    df['trip_year'] = df['starttime'].dt.strftime('%Y').astype(int)\n",
    "    df['trip_month'] = df['starttime'].dt.strftime('%m').astype(int)\n",
    "    \n",
    "    # convert trip duration to minutes\n",
    "    df['tripduration_mins'] = df['tripduration'].apply(lambda x: x / 60)\n",
    "    \n",
    "    # group by month, count rides\n",
    "    df_reduced = df[['tripduration_mins','gender','trip_year','trip_month','usertype']]\n",
    "    df_reduced = df_reduced.groupby(['trip_year', 'trip_month', 'gender']).count().reset_index()\n",
    "    df_reduced.gender.replace([0, 1, 2], ['Unknown','Male','Female'], inplace = True)\n",
    "    \n",
    "    df_append = df_append.append(df_reduced)\n",
    "    print(f' Month: {month}, Shape: {df.shape}, Append Shape: {df_append.shape}')\n",
    "    month += 1\n",
    "    \n",
    "\n",
    "    if (month == 13):\n",
    "        month = 1\n",
    "        year += 1"
   ]
  },
  {
   "cell_type": "code",
   "execution_count": 21,
   "metadata": {
    "scrolled": true
   },
   "outputs": [
    {
     "data": {
      "text/html": [
       "<div>\n",
       "<style scoped>\n",
       "    .dataframe tbody tr th:only-of-type {\n",
       "        vertical-align: middle;\n",
       "    }\n",
       "\n",
       "    .dataframe tbody tr th {\n",
       "        vertical-align: top;\n",
       "    }\n",
       "\n",
       "    .dataframe thead th {\n",
       "        text-align: right;\n",
       "    }\n",
       "</style>\n",
       "<table border=\"1\" class=\"dataframe\">\n",
       "  <thead>\n",
       "    <tr style=\"text-align: right;\">\n",
       "      <th></th>\n",
       "      <th>trip_year</th>\n",
       "      <th>trip_month</th>\n",
       "      <th>gender</th>\n",
       "      <th>tripduration_mins</th>\n",
       "      <th>usertype</th>\n",
       "    </tr>\n",
       "  </thead>\n",
       "  <tbody>\n",
       "    <tr>\n",
       "      <th>0</th>\n",
       "      <td>2018</td>\n",
       "      <td>1</td>\n",
       "      <td>Unknown</td>\n",
       "      <td>28654</td>\n",
       "      <td>28654</td>\n",
       "    </tr>\n",
       "    <tr>\n",
       "      <th>1</th>\n",
       "      <td>2018</td>\n",
       "      <td>1</td>\n",
       "      <td>Male</td>\n",
       "      <td>536592</td>\n",
       "      <td>536592</td>\n",
       "    </tr>\n",
       "    <tr>\n",
       "      <th>2</th>\n",
       "      <td>2018</td>\n",
       "      <td>1</td>\n",
       "      <td>Female</td>\n",
       "      <td>151325</td>\n",
       "      <td>151325</td>\n",
       "    </tr>\n",
       "    <tr>\n",
       "      <th>0</th>\n",
       "      <td>2018</td>\n",
       "      <td>2</td>\n",
       "      <td>Unknown</td>\n",
       "      <td>38525</td>\n",
       "      <td>38525</td>\n",
       "    </tr>\n",
       "    <tr>\n",
       "      <th>1</th>\n",
       "      <td>2018</td>\n",
       "      <td>2</td>\n",
       "      <td>Male</td>\n",
       "      <td>620485</td>\n",
       "      <td>620485</td>\n",
       "    </tr>\n",
       "  </tbody>\n",
       "</table>\n",
       "</div>"
      ],
      "text/plain": [
       "   trip_year  trip_month   gender  tripduration_mins  usertype\n",
       "0       2018           1  Unknown              28654     28654\n",
       "1       2018           1     Male             536592    536592\n",
       "2       2018           1   Female             151325    151325\n",
       "0       2018           2  Unknown              38525     38525\n",
       "1       2018           2     Male             620485    620485"
      ]
     },
     "execution_count": 21,
     "metadata": {},
     "output_type": "execute_result"
    }
   ],
   "source": [
    "df_append.head()"
   ]
  },
  {
   "cell_type": "code",
   "execution_count": 22,
   "metadata": {},
   "outputs": [],
   "source": [
    "df_append.rename(columns={'tripduration_mins': 'ride_count'}, inplace=True)\n",
    "df_append.drop(columns=['usertype'], axis=1, inplace=True)"
   ]
  },
  {
   "cell_type": "code",
   "execution_count": 23,
   "metadata": {},
   "outputs": [
    {
     "data": {
      "text/html": [
       "<div>\n",
       "<style scoped>\n",
       "    .dataframe tbody tr th:only-of-type {\n",
       "        vertical-align: middle;\n",
       "    }\n",
       "\n",
       "    .dataframe tbody tr th {\n",
       "        vertical-align: top;\n",
       "    }\n",
       "\n",
       "    .dataframe thead th {\n",
       "        text-align: right;\n",
       "    }\n",
       "</style>\n",
       "<table border=\"1\" class=\"dataframe\">\n",
       "  <thead>\n",
       "    <tr style=\"text-align: right;\">\n",
       "      <th></th>\n",
       "      <th>trip_year</th>\n",
       "      <th>trip_month</th>\n",
       "      <th>gender</th>\n",
       "      <th>ride_count</th>\n",
       "    </tr>\n",
       "  </thead>\n",
       "  <tbody>\n",
       "    <tr>\n",
       "      <th>0</th>\n",
       "      <td>2018</td>\n",
       "      <td>1</td>\n",
       "      <td>Unknown</td>\n",
       "      <td>28654</td>\n",
       "    </tr>\n",
       "    <tr>\n",
       "      <th>1</th>\n",
       "      <td>2018</td>\n",
       "      <td>1</td>\n",
       "      <td>Male</td>\n",
       "      <td>536592</td>\n",
       "    </tr>\n",
       "    <tr>\n",
       "      <th>2</th>\n",
       "      <td>2018</td>\n",
       "      <td>1</td>\n",
       "      <td>Female</td>\n",
       "      <td>151325</td>\n",
       "    </tr>\n",
       "    <tr>\n",
       "      <th>0</th>\n",
       "      <td>2018</td>\n",
       "      <td>2</td>\n",
       "      <td>Unknown</td>\n",
       "      <td>38525</td>\n",
       "    </tr>\n",
       "    <tr>\n",
       "      <th>1</th>\n",
       "      <td>2018</td>\n",
       "      <td>2</td>\n",
       "      <td>Male</td>\n",
       "      <td>620485</td>\n",
       "    </tr>\n",
       "  </tbody>\n",
       "</table>\n",
       "</div>"
      ],
      "text/plain": [
       "   trip_year  trip_month   gender  ride_count\n",
       "0       2018           1  Unknown       28654\n",
       "1       2018           1     Male      536592\n",
       "2       2018           1   Female      151325\n",
       "0       2018           2  Unknown       38525\n",
       "1       2018           2     Male      620485"
      ]
     },
     "execution_count": 23,
     "metadata": {},
     "output_type": "execute_result"
    }
   ],
   "source": [
    "df_append.head()"
   ]
  },
  {
   "cell_type": "code",
   "execution_count": 24,
   "metadata": {},
   "outputs": [],
   "source": [
    "df_append.to_csv('csv/gender_grouped_counts.csv')"
   ]
  },
  {
   "cell_type": "code",
   "execution_count": null,
   "metadata": {},
   "outputs": [],
   "source": []
  }
 ],
 "metadata": {
  "kernelspec": {
   "display_name": "Python 3",
   "language": "python",
   "name": "python3"
  },
  "language_info": {
   "codemirror_mode": {
    "name": "ipython",
    "version": 3
   },
   "file_extension": ".py",
   "mimetype": "text/x-python",
   "name": "python",
   "nbconvert_exporter": "python",
   "pygments_lexer": "ipython3",
   "version": "3.7.3"
  }
 },
 "nbformat": 4,
 "nbformat_minor": 2
}
