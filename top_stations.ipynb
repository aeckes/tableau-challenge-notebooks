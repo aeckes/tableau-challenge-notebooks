{
 "cells": [
  {
   "cell_type": "code",
   "execution_count": 1,
   "metadata": {},
   "outputs": [],
   "source": [
    "import pandas as pd\n",
    "import numpy as np\n",
    "import datetime as dt"
   ]
  },
  {
   "cell_type": "code",
   "execution_count": 11,
   "metadata": {
    "scrolled": true
   },
   "outputs": [
    {
     "name": "stdout",
     "output_type": "stream",
     "text": [
      " Month: 1, Shape: (716571, 17), Append Shape: (763, 9)\n",
      " Month: 2, Shape: (839734, 17), Append Shape: (1525, 9)\n",
      " Month: 3, Shape: (971645, 17), Append Shape: (2292, 9)\n",
      " Month: 4, Shape: (1294222, 17), Append Shape: (3057, 9)\n",
      " Month: 5, Shape: (1803727, 17), Append Shape: (3824, 9)\n",
      " Month: 6, Shape: (1929984, 17), Append Shape: (4589, 9)\n",
      " Month: 7, Shape: (1888771, 17), Append Shape: (5356, 9)\n",
      " Month: 8, Shape: (1954519, 17), Append Shape: (6126, 9)\n",
      " Month: 9, Shape: (1857267, 17), Append Shape: (6894, 9)\n",
      " Month: 10, Shape: (1863633, 17), Append Shape: (7659, 9)\n",
      " Month: 11, Shape: (1251410, 17), Append Shape: (8420, 9)\n",
      " Month: 12, Shape: (1010543, 17), Append Shape: (9182, 9)\n",
      " Month: 1, Shape: (962971, 17), Append Shape: (9949, 9)\n",
      " Month: 2, Shape: (939109, 17), Append Shape: (10716, 9)\n",
      " Month: 3, Shape: (1318379, 17), Append Shape: (11485, 9)\n",
      " Month: 4, Shape: (1746403, 17), Append Shape: (12269, 9)\n",
      " Month: 5, Shape: (1903280, 17), Append Shape: (13062, 9)\n",
      " Month: 6, Shape: (2099976, 17), Append Shape: (13855, 9)\n",
      " Month: 7, Shape: (2156227, 17), Append Shape: (14642, 9)\n",
      " Month: 8, Shape: (2316680, 17), Append Shape: (15436, 9)\n",
      " Month: 9, Shape: (2419921, 17), Append Shape: (16241, 9)\n",
      " Month: 10, Shape: (2075744, 17), Append Shape: (17078, 9)\n",
      " Month: 11, Shape: (1469911, 17), Append Shape: (17947, 9)\n",
      " Month: 12, Shape: (950139, 17), Append Shape: (18882, 9)\n"
     ]
    }
   ],
   "source": [
    "year = 2018\n",
    "month = 1\n",
    "df_append_start = pd.DataFrame()\n",
    "df_append_end = pd.DataFrame()\n",
    "\n",
    "while year < 2020 and month < 14:\n",
    "    # generate path & read CSV\n",
    "    path = f'csv/{str(year) + str(month).zfill(2)}-citibike-tripdata.csv'\n",
    "    df = pd.read_csv(path)\n",
    "    \n",
    "    # filter out rides longer than 1 hr\n",
    "    df['tripduration'] = df['tripduration'].astype(int)\n",
    "    df = df[(df.tripduration <= 3600)] \n",
    "    \n",
    "    # convert start time to datetime to extract year & month\n",
    "    df['starttime'] = pd.to_datetime(df['starttime'])\n",
    "    df['trip_year'] = df['starttime'].dt.strftime('%Y').astype(int)\n",
    "    df['trip_month'] = df['starttime'].dt.strftime('%m').astype(int)\n",
    "    \n",
    "    # convert trip duration to minutes\n",
    "    #df['tripduration_mins'] = df['tripduration'].apply(lambda x: x / 60)\n",
    "    \n",
    "    # group by month, count rides\n",
    "    df_reduced = df[['start station name','start station latitude','start station longitude', 'end station name', 'end station latitude', 'end station longitude', 'trip_month', 'trip_year', 'usertype']]\n",
    "    df_reduced_start = df_reduced.groupby(['trip_year', 'start station name','start station latitude','start station longitude']).count().reset_index()\n",
    "    \n",
    "    df_reduced_end = df_reduced.groupby(['trip_year', 'end station name', 'end station latitude', 'end station longitude']).count().reset_index()\n",
    "    \n",
    "    df_append_start = df_append_start.append(df_reduced_start)\n",
    "    df_append_end = df_append_end.append(df_reduced_end)\n",
    "    \n",
    "    print(f' Month: {month}, Shape: {df.shape}, Append Shape: {df_append_start.shape}')\n",
    "    month += 1\n",
    "    \n",
    "\n",
    "    if (month == 13):\n",
    "        month = 1\n",
    "        year += 1"
   ]
  },
  {
   "cell_type": "code",
   "execution_count": 16,
   "metadata": {
    "scrolled": true
   },
   "outputs": [
    {
     "data": {
      "text/plain": [
       "['trip_year',\n",
       " 'start station name',\n",
       " 'start station latitude',\n",
       " 'start station longitude',\n",
       " 'end station name',\n",
       " 'end station latitude',\n",
       " 'end station longitude',\n",
       " 'trip_month',\n",
       " 'usertype']"
      ]
     },
     "execution_count": 16,
     "metadata": {},
     "output_type": "execute_result"
    }
   ],
   "source": [
    "list(df_append_start)"
   ]
  },
  {
   "cell_type": "code",
   "execution_count": 17,
   "metadata": {},
   "outputs": [],
   "source": [
    "df_start = df_append_start.copy()\n",
    "df_end = df_append_end.copy()\n",
    "\n",
    "df_start.rename(columns={'usertype': 'ride_count'}, inplace=True)\n",
    "df_start.drop(columns=['end station name', 'end station latitude', 'end station longitude', 'trip_month'], inplace=True)\n",
    "df_end.rename(columns={'usertype': 'ride_count'}, inplace=True)\n",
    "df_end.drop(columns=['start station name','start station latitude','start station longitude', 'trip_month'], inplace=True)"
   ]
  },
  {
   "cell_type": "code",
   "execution_count": 19,
   "metadata": {},
   "outputs": [
    {
     "data": {
      "text/html": [
       "<div>\n",
       "<style scoped>\n",
       "    .dataframe tbody tr th:only-of-type {\n",
       "        vertical-align: middle;\n",
       "    }\n",
       "\n",
       "    .dataframe tbody tr th {\n",
       "        vertical-align: top;\n",
       "    }\n",
       "\n",
       "    .dataframe thead th {\n",
       "        text-align: right;\n",
       "    }\n",
       "</style>\n",
       "<table border=\"1\" class=\"dataframe\">\n",
       "  <thead>\n",
       "    <tr style=\"text-align: right;\">\n",
       "      <th></th>\n",
       "      <th>trip_year</th>\n",
       "      <th>start station name</th>\n",
       "      <th>start station latitude</th>\n",
       "      <th>start station longitude</th>\n",
       "      <th>ride_count</th>\n",
       "    </tr>\n",
       "  </thead>\n",
       "  <tbody>\n",
       "    <tr>\n",
       "      <th>0</th>\n",
       "      <td>2018</td>\n",
       "      <td>1 Ave &amp; E 110 St</td>\n",
       "      <td>40.792327</td>\n",
       "      <td>-73.938300</td>\n",
       "      <td>310</td>\n",
       "    </tr>\n",
       "    <tr>\n",
       "      <th>1</th>\n",
       "      <td>2018</td>\n",
       "      <td>1 Ave &amp; E 16 St</td>\n",
       "      <td>40.732219</td>\n",
       "      <td>-73.981656</td>\n",
       "      <td>3144</td>\n",
       "    </tr>\n",
       "    <tr>\n",
       "      <th>2</th>\n",
       "      <td>2018</td>\n",
       "      <td>1 Ave &amp; E 18 St</td>\n",
       "      <td>40.733812</td>\n",
       "      <td>-73.980544</td>\n",
       "      <td>2202</td>\n",
       "    </tr>\n",
       "    <tr>\n",
       "      <th>3</th>\n",
       "      <td>2018</td>\n",
       "      <td>1 Ave &amp; E 30 St</td>\n",
       "      <td>40.741444</td>\n",
       "      <td>-73.975361</td>\n",
       "      <td>2356</td>\n",
       "    </tr>\n",
       "    <tr>\n",
       "      <th>4</th>\n",
       "      <td>2018</td>\n",
       "      <td>1 Ave &amp; E 44 St</td>\n",
       "      <td>40.750020</td>\n",
       "      <td>-73.969053</td>\n",
       "      <td>1415</td>\n",
       "    </tr>\n",
       "  </tbody>\n",
       "</table>\n",
       "</div>"
      ],
      "text/plain": [
       "   trip_year start station name  start station latitude  \\\n",
       "0       2018   1 Ave & E 110 St               40.792327   \n",
       "1       2018    1 Ave & E 16 St               40.732219   \n",
       "2       2018    1 Ave & E 18 St               40.733812   \n",
       "3       2018    1 Ave & E 30 St               40.741444   \n",
       "4       2018    1 Ave & E 44 St               40.750020   \n",
       "\n",
       "   start station longitude  ride_count  \n",
       "0               -73.938300         310  \n",
       "1               -73.981656        3144  \n",
       "2               -73.980544        2202  \n",
       "3               -73.975361        2356  \n",
       "4               -73.969053        1415  "
      ]
     },
     "execution_count": 19,
     "metadata": {},
     "output_type": "execute_result"
    }
   ],
   "source": [
    "df_start.head()"
   ]
  },
  {
   "cell_type": "code",
   "execution_count": 20,
   "metadata": {},
   "outputs": [],
   "source": [
    "df_start.to_csv('csv/start_station_counts.csv')\n",
    "df_end.to_csv('csv/end_station_counts.csv')"
   ]
  },
  {
   "cell_type": "code",
   "execution_count": null,
   "metadata": {},
   "outputs": [],
   "source": []
  }
 ],
 "metadata": {
  "kernelspec": {
   "display_name": "Python 3",
   "language": "python",
   "name": "python3"
  },
  "language_info": {
   "codemirror_mode": {
    "name": "ipython",
    "version": 3
   },
   "file_extension": ".py",
   "mimetype": "text/x-python",
   "name": "python",
   "nbconvert_exporter": "python",
   "pygments_lexer": "ipython3",
   "version": "3.7.3"
  }
 },
 "nbformat": 4,
 "nbformat_minor": 2
}
